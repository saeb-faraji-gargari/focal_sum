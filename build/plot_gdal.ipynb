{
 "cells": [
  {
   "cell_type": "code",
   "execution_count": 1,
   "id": "dae91ee2",
   "metadata": {},
   "outputs": [],
   "source": [
    "from osgeo import gdal\n",
    "import numpy as np\n",
    "import matplotlib.pyplot as plt"
   ]
  },
  {
   "cell_type": "code",
   "execution_count": 2,
   "id": "e7b38fb2",
   "metadata": {},
   "outputs": [
    {
     "name": "stdout",
     "output_type": "stream",
     "text": [
      "CMakeCache.txt\t\t    Doxyfile.documentation     focal_sum\r\n",
      "CMakeDoxyfile.in\t    Doxyfile.my_documentation  focal_sum_test\r\n",
      "CMakeDoxygenDefaults.cmake  Makefile\t\t       install_manifest.txt\r\n",
      "CMakeFiles\t\t    cmake_install.cmake        libfocal_sum_operation.a\r\n",
      "CTestTestfile.cmake\t    em.1000.tif\t\t       plot_gdal.ipynb\r\n",
      "Doxyfile.docs\t\t    em_sah1.tif\r\n"
     ]
    }
   ],
   "source": [
    "!ls"
   ]
  },
  {
   "cell_type": "code",
   "execution_count": 3,
   "id": "130fa841",
   "metadata": {},
   "outputs": [],
   "source": [
    "fn = \"1m_DTM.tif\""
   ]
  },
  {
   "cell_type": "code",
   "execution_count": 4,
   "id": "164dec0e",
   "metadata": {},
   "outputs": [
    {
     "name": "stderr",
     "output_type": "stream",
     "text": [
      "ERROR 4: 1m_DTM.tif: No such file or directory\n"
     ]
    }
   ],
   "source": [
    "ds = gdal.Open(fn)"
   ]
  },
  {
   "cell_type": "code",
   "execution_count": 5,
   "id": "5f09c805",
   "metadata": {},
   "outputs": [
    {
     "name": "stdout",
     "output_type": "stream",
     "text": [
      "'ds' type <class 'NoneType'>\n"
     ]
    }
   ],
   "source": [
    "print(\"'ds' type\", type(ds))"
   ]
  },
  {
   "cell_type": "code",
   "execution_count": 6,
   "id": "61faacce",
   "metadata": {},
   "outputs": [
    {
     "ename": "AttributeError",
     "evalue": "'NoneType' object has no attribute 'GetProjection'",
     "output_type": "error",
     "traceback": [
      "\u001b[0;31m---------------------------------------------------------------------------\u001b[0m",
      "\u001b[0;31mAttributeError\u001b[0m                            Traceback (most recent call last)",
      "Cell \u001b[0;32mIn[6], line 1\u001b[0m\n\u001b[0;32m----> 1\u001b[0m \u001b[38;5;28mprint\u001b[39m(\u001b[38;5;124m\"\u001b[39m\u001b[38;5;124mProjection: \u001b[39m\u001b[38;5;124m\"\u001b[39m, \u001b[43mds\u001b[49m\u001b[38;5;241;43m.\u001b[39;49m\u001b[43mGetProjection\u001b[49m())  \u001b[38;5;66;03m# get projection\u001b[39;00m\n\u001b[1;32m      2\u001b[0m \u001b[38;5;28mprint\u001b[39m(\u001b[38;5;124m\"\u001b[39m\u001b[38;5;124mColumns:\u001b[39m\u001b[38;5;124m\"\u001b[39m, ds\u001b[38;5;241m.\u001b[39mRasterXSize)  \u001b[38;5;66;03m# number of columns\u001b[39;00m\n\u001b[1;32m      3\u001b[0m \u001b[38;5;28mprint\u001b[39m(\u001b[38;5;124m\"\u001b[39m\u001b[38;5;124mRows:\u001b[39m\u001b[38;5;124m\"\u001b[39m, ds\u001b[38;5;241m.\u001b[39mRasterYSize)  \u001b[38;5;66;03m# number of rows\u001b[39;00m\n",
      "\u001b[0;31mAttributeError\u001b[0m: 'NoneType' object has no attribute 'GetProjection'"
     ]
    }
   ],
   "source": [
    "print(\"Projection: \", ds.GetProjection())  # get projection\n",
    "print(\"Columns:\", ds.RasterXSize)  # number of columns\n",
    "print(\"Rows:\", ds.RasterYSize)  # number of rows\n",
    "print(\"Band count:\", ds.RasterCount)  # number of bands"
   ]
  },
  {
   "cell_type": "code",
   "execution_count": 7,
   "id": "a3e8c66e",
   "metadata": {},
   "outputs": [
    {
     "ename": "AttributeError",
     "evalue": "'NoneType' object has no attribute 'GetGeoTransform'",
     "output_type": "error",
     "traceback": [
      "\u001b[0;31m---------------------------------------------------------------------------\u001b[0m",
      "\u001b[0;31mAttributeError\u001b[0m                            Traceback (most recent call last)",
      "Cell \u001b[0;32mIn[7], line 1\u001b[0m\n\u001b[0;32m----> 1\u001b[0m \u001b[38;5;28mprint\u001b[39m(\u001b[38;5;124m\"\u001b[39m\u001b[38;5;124mGeoTransform\u001b[39m\u001b[38;5;124m\"\u001b[39m, \u001b[43mds\u001b[49m\u001b[38;5;241;43m.\u001b[39;49m\u001b[43mGetGeoTransform\u001b[49m())\n",
      "\u001b[0;31mAttributeError\u001b[0m: 'NoneType' object has no attribute 'GetGeoTransform'"
     ]
    }
   ],
   "source": [
    "print(\"GeoTransform\", ds.GetGeoTransform())"
   ]
  },
  {
   "cell_type": "markdown",
   "id": "be95ce0c",
   "metadata": {},
   "source": [
    "The gdal GeoTransform is a tuple that contains six elements. Each GeoTransform element is expalined below in order of its pythonic index (0-5), that is, its position within the tuple.\n",
    "\n",
    "[0] left X coordinate\n",
    "[1] pixel width\n",
    "[2] row rotation (usually zero)\n",
    "[3] top Y coordinate\n",
    "[4] column rotation (usually zero)\n",
    "[5] pixel height, this will be negative for north up images"
   ]
  },
  {
   "cell_type": "code",
   "execution_count": 8,
   "id": "09729efd",
   "metadata": {},
   "outputs": [
    {
     "ename": "AttributeError",
     "evalue": "'NoneType' object has no attribute 'GetRasterBand'",
     "output_type": "error",
     "traceback": [
      "\u001b[0;31m---------------------------------------------------------------------------\u001b[0m",
      "\u001b[0;31mAttributeError\u001b[0m                            Traceback (most recent call last)",
      "Cell \u001b[0;32mIn[8], line 1\u001b[0m\n\u001b[0;32m----> 1\u001b[0m data_array \u001b[38;5;241m=\u001b[39m \u001b[43mds\u001b[49m\u001b[38;5;241;43m.\u001b[39;49m\u001b[43mGetRasterBand\u001b[49m(\u001b[38;5;241m1\u001b[39m)\u001b[38;5;241m.\u001b[39mReadAsArray()\n\u001b[1;32m      2\u001b[0m data_array\u001b[38;5;241m.\u001b[39mshape\n",
      "\u001b[0;31mAttributeError\u001b[0m: 'NoneType' object has no attribute 'GetRasterBand'"
     ]
    }
   ],
   "source": [
    "data_array = ds.GetRasterBand(1).ReadAsArray()\n",
    "data_array.shape"
   ]
  },
  {
   "cell_type": "code",
   "execution_count": 9,
   "id": "8905852d",
   "metadata": {},
   "outputs": [
    {
     "ename": "NameError",
     "evalue": "name 'data_array' is not defined",
     "output_type": "error",
     "traceback": [
      "\u001b[0;31m---------------------------------------------------------------------------\u001b[0m",
      "\u001b[0;31mNameError\u001b[0m                                 Traceback (most recent call last)",
      "Cell \u001b[0;32mIn[9], line 2\u001b[0m\n\u001b[1;32m      1\u001b[0m plt\u001b[38;5;241m.\u001b[39mfigure(figsize\u001b[38;5;241m=\u001b[39m(\u001b[38;5;241m5\u001b[39m, \u001b[38;5;241m5\u001b[39m))\n\u001b[0;32m----> 2\u001b[0m plt\u001b[38;5;241m.\u001b[39mimshow(\u001b[43mdata_array\u001b[49m)\n\u001b[1;32m      3\u001b[0m plt\u001b[38;5;241m.\u001b[39mcolorbar()\n",
      "\u001b[0;31mNameError\u001b[0m: name 'data_array' is not defined"
     ]
    },
    {
     "data": {
      "text/plain": [
       "<Figure size 500x500 with 0 Axes>"
      ]
     },
     "metadata": {},
     "output_type": "display_data"
    }
   ],
   "source": [
    "plt.figure(figsize=(5, 5))\n",
    "plt.imshow(data_array)\n",
    "plt.colorbar()"
   ]
  },
  {
   "cell_type": "code",
   "execution_count": 10,
   "id": "aeed8bc5",
   "metadata": {},
   "outputs": [
    {
     "name": "stderr",
     "output_type": "stream",
     "text": [
      "ERROR 4: drycreek.tif: No such file or directory\n"
     ]
    },
    {
     "ename": "AttributeError",
     "evalue": "'NoneType' object has no attribute 'GetRasterBand'",
     "output_type": "error",
     "traceback": [
      "\u001b[0;31m---------------------------------------------------------------------------\u001b[0m",
      "\u001b[0;31mAttributeError\u001b[0m                            Traceback (most recent call last)",
      "Cell \u001b[0;32mIn[10], line 4\u001b[0m\n\u001b[1;32m      1\u001b[0m fn_sahand \u001b[38;5;241m=\u001b[39m \u001b[38;5;124m\"\u001b[39m\u001b[38;5;124mdrycreek.tif\u001b[39m\u001b[38;5;124m\"\u001b[39m\n\u001b[1;32m      2\u001b[0m ds_sahand \u001b[38;5;241m=\u001b[39m gdal\u001b[38;5;241m.\u001b[39mOpen(fn_sahand)\n\u001b[0;32m----> 4\u001b[0m data_array_sahand \u001b[38;5;241m=\u001b[39m \u001b[43mds_sahand\u001b[49m\u001b[38;5;241;43m.\u001b[39;49m\u001b[43mGetRasterBand\u001b[49m(\u001b[38;5;241m1\u001b[39m)\u001b[38;5;241m.\u001b[39mReadAsArray()\n\u001b[1;32m      5\u001b[0m data_array_sahand\u001b[38;5;241m.\u001b[39mshape\n\u001b[1;32m      7\u001b[0m plt\u001b[38;5;241m.\u001b[39mfigure(figsize\u001b[38;5;241m=\u001b[39m(\u001b[38;5;241m5\u001b[39m, \u001b[38;5;241m5\u001b[39m))\n",
      "\u001b[0;31mAttributeError\u001b[0m: 'NoneType' object has no attribute 'GetRasterBand'"
     ]
    }
   ],
   "source": [
    "\n",
    "fn_sahand = \"drycreek.tif\"\n",
    "ds_sahand = gdal.Open(fn_sahand)\n",
    "\n",
    "data_array_sahand = ds_sahand.GetRasterBand(1).ReadAsArray()\n",
    "data_array_sahand.shape\n",
    "\n",
    "plt.figure(figsize=(5, 5))\n",
    "plt.imshow(data_array_sahand)\n",
    "plt.colorbar()\n",
    "\n",
    "data_array_sahand\n",
    "\n"
   ]
  },
  {
   "cell_type": "code",
   "execution_count": 11,
   "id": "a69c43b7",
   "metadata": {},
   "outputs": [
    {
     "data": {
      "text/plain": [
       "array([[-62.364807, -62.364807, -62.364807, ..., -62.364807, -62.364807,\n",
       "        -62.364807],\n",
       "       [-62.364807, -62.364807, -62.364807, ..., -62.364807, -62.364807,\n",
       "        -62.364807],\n",
       "       [-62.364807, -62.364807, -62.364807, ..., -62.364807, -62.364807,\n",
       "        -62.364807],\n",
       "       ...,\n",
       "       [-62.364807, -62.364807, -62.364807, ..., -62.364807, -62.364807,\n",
       "        -62.364807],\n",
       "       [-62.364807, -62.364807, -62.364807, ..., -62.364807, -62.364807,\n",
       "        -62.364807],\n",
       "       [-62.364807, -62.364807, -62.364807, ..., -62.364807, -62.364807,\n",
       "        -62.364807]], dtype=float32)"
      ]
     },
     "execution_count": 11,
     "metadata": {},
     "output_type": "execute_result"
    },
    {
     "data": {
      "image/png": "[encoded data removed]",
      "text/plain": [
       "<Figure size 500x500 with 2 Axes>"
      ]
     },
     "metadata": {},
     "output_type": "display_data"
    }
   ],
   "source": [
    "fn_sahand = \"em.1000.tif\"\n",
    "ds_sahand = gdal.Open(fn_sahand)\n",
    "\n",
    "data_array_sahand = ds_sahand.GetRasterBand(1).ReadAsArray()\n",
    "data_array_sahand.shape\n",
    "\n",
    "plt.figure(figsize=(5, 5))\n",
    "plt.imshow(data_array_sahand)\n",
    "plt.colorbar()\n",
    "\n",
    "data_array_sahand"
   ]
  },
  {
   "cell_type": "code",
   "execution_count": 13,
   "id": "d3feb606",
   "metadata": {},
   "outputs": [
    {
     "data": {
      "text/plain": [
       "array([[-561.28326, -561.28326, -561.28326, ..., -561.28326, -561.28326,\n",
       "        -561.28326],\n",
       "       [-561.28326, -561.28326, -561.28326, ..., -561.28326, -561.28326,\n",
       "        -561.28326],\n",
       "       [-561.28326, -561.28326, -561.28326, ..., -561.28326, -561.28326,\n",
       "        -561.28326],\n",
       "       ...,\n",
       "       [-561.28326, -561.28326, -561.28326, ..., -561.28326, -561.28326,\n",
       "        -561.28326],\n",
       "       [-561.28326, -561.28326, -561.28326, ..., -561.28326, -561.28326,\n",
       "        -561.28326],\n",
       "       [-561.28326, -561.28326, -561.28326, ..., -561.28326, -561.28326,\n",
       "        -561.28326]], dtype=float32)"
      ]
     },
     "execution_count": 13,
     "metadata": {},
     "output_type": "execute_result"
    },
    {
     "data": {
      "image/png": "[encoded data removed]",
      "text/plain": [
       "<Figure size 500x500 with 2 Axes>"
      ]
     },
     "metadata": {},
     "output_type": "display_data"
    }
   ],
   "source": [
    "fn_sahand = \"em_sah1.tif\"\n",
    "ds_sahand = gdal.Open(fn_sahand)\n",
    "\n",
    "data_array_sahand = ds_sahand.GetRasterBand(1).ReadAsArray()\n",
    "data_array_sahand.shape\n",
    "\n",
    "plt.figure(figsize=(5, 5))\n",
    "plt.imshow(data_array_sahand)\n",
    "plt.colorbar()\n",
    "\n",
    "data_array_sahand"
   ]
  },
  {
   "cell_type": "code",
   "execution_count": 14,
   "id": "b1c7aef0",
   "metadata": {},
   "outputs": [
    {
     "name": "stderr",
     "output_type": "stream",
     "text": [
      "ERROR 4: em_sah14.tiff: No such file or directory\n"
     ]
    },
    {
     "ename": "AttributeError",
     "evalue": "'NoneType' object has no attribute 'GetRasterBand'",
     "output_type": "error",
     "traceback": [
      "\u001b[0;31m---------------------------------------------------------------------------\u001b[0m",
      "\u001b[0;31mAttributeError\u001b[0m                            Traceback (most recent call last)",
      "Cell \u001b[0;32mIn[14], line 4\u001b[0m\n\u001b[1;32m      1\u001b[0m fn_sahand \u001b[38;5;241m=\u001b[39m \u001b[38;5;124m\"\u001b[39m\u001b[38;5;124mem_sah14.tiff\u001b[39m\u001b[38;5;124m\"\u001b[39m\n\u001b[1;32m      2\u001b[0m ds_sahand \u001b[38;5;241m=\u001b[39m gdal\u001b[38;5;241m.\u001b[39mOpen(fn_sahand)\n\u001b[0;32m----> 4\u001b[0m data_array_sahand \u001b[38;5;241m=\u001b[39m \u001b[43mds_sahand\u001b[49m\u001b[38;5;241;43m.\u001b[39;49m\u001b[43mGetRasterBand\u001b[49m(\u001b[38;5;241m1\u001b[39m)\u001b[38;5;241m.\u001b[39mReadAsArray()\n\u001b[1;32m      5\u001b[0m data_array_sahand\u001b[38;5;241m.\u001b[39mshape\n\u001b[1;32m      7\u001b[0m plt\u001b[38;5;241m.\u001b[39mfigure(figsize\u001b[38;5;241m=\u001b[39m(\u001b[38;5;241m5\u001b[39m, \u001b[38;5;241m5\u001b[39m))\n",
      "\u001b[0;31mAttributeError\u001b[0m: 'NoneType' object has no attribute 'GetRasterBand'"
     ]
    }
   ],
   "source": [
    "fn_sahand = \"em_sah14.tiff\"\n",
    "ds_sahand = gdal.Open(fn_sahand)\n",
    "\n",
    "data_array_sahand = ds_sahand.GetRasterBand(1).ReadAsArray()\n",
    "data_array_sahand.shape\n",
    "\n",
    "plt.figure(figsize=(5, 5))\n",
    "plt.imshow(data_array_sahand)\n",
    "plt.colorbar()\n",
    "\n",
    "data_array_sahand"
   ]
  },
  {
   "cell_type": "code",
   "execution_count": 15,
   "id": "51dc593f",
   "metadata": {},
   "outputs": [
    {
     "name": "stderr",
     "output_type": "stream",
     "text": [
      "ERROR 4: em_sah16.tiff: No such file or directory\n"
     ]
    },
    {
     "ename": "AttributeError",
     "evalue": "'NoneType' object has no attribute 'GetRasterBand'",
     "output_type": "error",
     "traceback": [
      "\u001b[0;31m---------------------------------------------------------------------------\u001b[0m",
      "\u001b[0;31mAttributeError\u001b[0m                            Traceback (most recent call last)",
      "Cell \u001b[0;32mIn[15], line 4\u001b[0m\n\u001b[1;32m      1\u001b[0m fn_sahand \u001b[38;5;241m=\u001b[39m \u001b[38;5;124m\"\u001b[39m\u001b[38;5;124mem_sah16.tiff\u001b[39m\u001b[38;5;124m\"\u001b[39m\n\u001b[1;32m      2\u001b[0m ds_sahand \u001b[38;5;241m=\u001b[39m gdal\u001b[38;5;241m.\u001b[39mOpen(fn_sahand)\n\u001b[0;32m----> 4\u001b[0m data_array_sahand \u001b[38;5;241m=\u001b[39m \u001b[43mds_sahand\u001b[49m\u001b[38;5;241;43m.\u001b[39;49m\u001b[43mGetRasterBand\u001b[49m(\u001b[38;5;241m1\u001b[39m)\u001b[38;5;241m.\u001b[39mReadAsArray()\n\u001b[1;32m      5\u001b[0m data_array_sahand\u001b[38;5;241m.\u001b[39mshape\n\u001b[1;32m      7\u001b[0m plt\u001b[38;5;241m.\u001b[39mfigure(figsize\u001b[38;5;241m=\u001b[39m(\u001b[38;5;241m5\u001b[39m, \u001b[38;5;241m5\u001b[39m))\n",
      "\u001b[0;31mAttributeError\u001b[0m: 'NoneType' object has no attribute 'GetRasterBand'"
     ]
    }
   ],
   "source": [
    "fn_sahand = \"em_sah16.tiff\"\n",
    "ds_sahand = gdal.Open(fn_sahand)\n",
    "\n",
    "data_array_sahand = ds_sahand.GetRasterBand(1).ReadAsArray()\n",
    "data_array_sahand.shape\n",
    "\n",
    "plt.figure(figsize=(5, 5))\n",
    "plt.imshow(data_array_sahand)\n",
    "plt.colorbar()\n",
    "\n",
    "data_array_sahand"
   ]
  },
  {
   "cell_type": "code",
   "execution_count": 16,
   "id": "0191312a",
   "metadata": {},
   "outputs": [
    {
     "name": "stdout",
     "output_type": "stream",
     "text": [
      "CMakeCache.txt\t\t    Doxyfile.documentation     focal_sum\r\n",
      "CMakeDoxyfile.in\t    Doxyfile.my_documentation  focal_sum_test\r\n",
      "CMakeDoxygenDefaults.cmake  Makefile\t\t       install_manifest.txt\r\n",
      "CMakeFiles\t\t    cmake_install.cmake        libfocal_sum_operation.a\r\n",
      "CTestTestfile.cmake\t    em.1000.tif\t\t       plot_gdal.ipynb\r\n",
      "Doxyfile.docs\t\t    em_sah1.tif\r\n"
     ]
    }
   ],
   "source": [
    "!ls\n"
   ]
  },
  {
   "cell_type": "code",
   "execution_count": null,
   "id": "8f6a6072",
   "metadata": {},
   "outputs": [],
   "source": []
  },
  {
   "cell_type": "code",
   "execution_count": null,
   "id": "edb53b13",
   "metadata": {},
   "outputs": [],
   "source": []
  },
  {
   "cell_type": "code",
   "execution_count": null,
   "id": "43c8d140",
   "metadata": {},
   "outputs": [],
   "source": []
  }
 ],
 "metadata": {
  "kernelspec": {
   "display_name": "Python 3 (ipykernel)",
   "language": "python",
   "name": "python3"
  },
  "language_info": {
   "codemirror_mode": {
    "name": "ipython",
    "version": 3
   },
   "file_extension": ".py",
   "mimetype": "text/x-python",
   "name": "python",
   "nbconvert_exporter": "python",
   "pygments_lexer": "ipython3",
   "version": "3.9.15"
  }
 },
 "nbformat": 4,
 "nbformat_minor": 5
}
